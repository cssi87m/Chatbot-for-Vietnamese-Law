{
 "cells": [
  {
   "cell_type": "code",
   "execution_count": 1,
   "metadata": {},
   "outputs": [],
   "source": [
    "from langchain_core.prompts.chat import ChatPromptTemplate\n",
    "from langchain.prompts import ChatPromptTemplate\n",
    "from langchain_core.output_parsers import JsonOutputParser\n",
    "from langchain_ollama import ChatOllama"
   ]
  },
  {
   "cell_type": "code",
   "execution_count": 2,
   "metadata": {},
   "outputs": [],
   "source": [
    "# import pandas as pd \n",
    "\n",
    "# chunk_metadata = pd.read_csv('chunks.csv')\n",
    "# chunk_metadata['text'][561]"
   ]
  },
  {
   "cell_type": "code",
   "execution_count": 3,
   "metadata": {},
   "outputs": [],
   "source": [
    "import os\n",
    "# Force GPU usage\n",
    "os.environ[\"OLLAMA_ACCELERATOR\"] = \"gpu\"\n",
    "\n",
    "chat_model = ChatOllama(\n",
    "    model=\"gemma3:1b\",\n",
    "    num_predict = 512,\n",
    "    temperature=0.2,\n",
    "    top_k=10,\n",
    "    additional_kwargs = {'gpu': True})"
   ]
  },
  {
   "cell_type": "code",
   "execution_count": 4,
   "metadata": {},
   "outputs": [],
   "source": [
    "label_template = \"\"\"\n",
    "Bạn là trợ lý AI được giao nhiệm vụ tạo ra một cặp câu hỏi-trả lời thực tế duy nhất dựa trên một vài tài liệu nhất định về pháp luật Việt Nam, về luật an ninh mạng và an toàn thông tin mạng, các sản phẩm về công nghệ thông tin, mật mã, dữ liệu người dùng. \n",
    "Câu hỏi phải là thứ mà người dùng có thể tự nhiên hỏi khi tìm kiếm thông tin có trong tài liệu.\n",
    "Với tài liệu: {chunk}\n",
    "\n",
    "Hãy tuân theo các yêu cầu sau khi tạo câu hỏi - câu trả lời:\n",
    "\n",
    "1. Phân tích các chủ đề, sự kiện và quy định quan trọng trong tài liệu đã cho, chọn một chủ đề cụ thể liên quan đến luật an ninh mạng hoặc an toàn thông tin mạng.\n",
    "2. Tạo ra một câu hỏi tự nhiên mà người dùng có thể hỏi để tìm kiếm thông tin trong tài liệu này.\n",
    "3. Sử dụng ngôn ngữ tự nhiên, có thể bao gồm lỗi đánh máy nhỏ hoặc cách diễn đạt thông thường của người dùng khi tìm kiếm.\n",
    "4. Đảm bảo câu hỏi có liên quan về mặt ngữ nghĩa với nội dung tài liệu MÀ KHÔNG sao chép trực tiếp các cụm từ.\n",
    "5. Đảm bảo rằng tất cả các câu hỏi đều tập trung vào một chủ đề tương tự hoặc yêu cầu cùng một dạng thông tin.\n",
    "6. Đảm bảo câu hỏi và câu trả lời được viết bằng tiếng Việt.\n",
    "7: Đảm bảo rằng đầu ra phải là một JSON hợp lệ chứa cả 'question' và 'answer'. Nếu đầu ra không chứa cả 'question' và 'answer', kết quả sẽ bị coi là không hợp lệ.\n",
    "\n",
    "Trả về một đối tượng JSON có cấu trúc như sau:\n",
    "{{\n",
    "  \"question\": \"Văn bản câu hỏi đã tạo\",\n",
    "  \"answer\": \"Văn bản câu trả lời đã tạo\"\n",
    "}}\n",
    "\n",
    "LƯU Ý QUAN TRỌNG: Chỉ trả về đối tượng JSON, không thêm bất kỳ văn bản nào khác. Không thêm ghi chú, giải thích, hoặc bất kỳ thông tin nào ngoài JSON.\n",
    "\"\"\"\n",
    "\n",
    "label_prompt = ChatPromptTemplate.from_template(label_template, stream = False)\n",
    "\n",
    "label_chain = label_prompt | chat_model | JsonOutputParser()\n",
    "# label_chain = label_prompt | chat_model"
   ]
  },
  {
   "cell_type": "code",
   "execution_count": 5,
   "metadata": {},
   "outputs": [
    {
     "name": "stderr",
     "output_type": "stream",
     "text": [
      "/home/quangminh/anaconda3/envs/chatbots/lib/python3.11/site-packages/tqdm/auto.py:21: TqdmWarning: IProgress not found. Please update jupyter and ipywidgets. See https://ipywidgets.readthedocs.io/en/stable/user_install.html\n",
      "  from .autonotebook import tqdm as notebook_tqdm\n",
      "  0%|          | 12/4142 [00:57<4:35:12,  4.00s/it]"
     ]
    },
    {
     "name": "stdout",
     "output_type": "stream",
     "text": [
      "Error: Invalid json output: ```json\n",
      "{\n",
      " \"question\": \"Các quy định pháp luật về bảo vệ dữ liệu cá nhân trong lĩnh vực công nghệ thông tin có thể được áp dụng như thế nào để ngăn chặn các hành vi lạm dụng, khai thác, hoặc sử dụng dữ liệu cá nhân trái phép?\",\n",
      " \"answer\": \"Luật Bảo vệ Dữ liệu Cá nhân (Luật رقم 20/2023/DL) quy định các biện pháp bảo vệ dữ liệu cá nhân, bao gồm cả việc xác thực, xử lý, lưu trữ, truyền tải, và bảo mật dữ liệu. Việc sử dụng dữ liệu cá nhân cần tuân thủ các quy định về quyền riêng tư, an toàn, và trách nhiệm giải trình. Các biện pháp này bao gồm việc thiết lập các chính sách bảo mật, kiểm soát truy cập dữ liệu, và xử lý dữ liệu theo nguyên tắc \"chỉ khi cần thiết, chỉ cho đến khi cần thiết, và không dùng cho mục đích khác\".  Việc vi phạm các quy định này có thể bị xử lý theo các hình phạt nghiêm trọng, bao gồm phạt tiền và truy tố hình sự.\"\n",
      "}\n",
      "```\n",
      "For troubleshooting, visit: https://python.langchain.com/docs/troubleshooting/errors/OUTPUT_PARSING_FAILURE \n"
     ]
    },
    {
     "name": "stderr",
     "output_type": "stream",
     "text": [
      "  7%|▋         | 284/4142 [19:44<5:09:21,  4.81s/it]"
     ]
    },
    {
     "name": "stdout",
     "output_type": "stream",
     "text": [
      "Error: Invalid json output: ```json\n",
      "{\n",
      " \"question\": \"Luật bảo vệ dữ liệu cá nhân trong lĩnh vực công nghệ thông tin là gì, và những biện pháp nào được áp dụng để đảm bảo quyền riêng tư của người dùng?\",\n",
      " \"answer\": \"Luật bảo vệ dữ liệu cá nhân trong lĩnh vực công nghệ thông tin (Luật An toàn Thông tin) quy định về việc bảo vệ dữ liệu cá nhân của người dùng, đặc biệt là dữ liệu nhạy cảm như thông tin cá nhân, thông tin tài chính, thông tin sức khỏe. Các biện pháp chính bao gồm: (1) Quyền được bảo vệ dữ liệu; (2) Quyền truy cập, sửa chữa, yêu cầu xóa dữ liệu; (3) Quyền hạn chế xử lý dữ liệu; (4) Bồi thường thiệt hại; (5) Trách nhiệm của tổ chức xử lý dữ liệu; (6) Xử lý dữ liệu theo mục đích, phương thức hợp pháp; (7) Đảm bảo an ninh, bảo mật dữ liệu; (8) Xử lý dữ liệu theo nguyên tắc \"chỉ khi cần thiết\" và \"tính chất hạn chế\". Các tổ chức như Bộ Thông tin và Truyền thông, các công ty viễn thông, và các cơ quan quản lý có trách nhiệm thực thi luật này.\"\n",
      "}\n",
      "```\n",
      "For troubleshooting, visit: https://python.langchain.com/docs/troubleshooting/errors/OUTPUT_PARSING_FAILURE \n",
      "Error: Invalid json output: ```json\n",
      "{\n",
      " \"question\": \"Luật bảo vệ dữ liệu cá nhân theo quy định là gì, và những biện pháp nào được áp dụng để đảm bảo quyền riêng tư của người dùng trong bối cảnh công nghệ thông tin?\",\n",
      " \"answer\": \"Luật bảo vệ dữ liệu cá nhân là quy định pháp luật Việt Nam nhằm bảo vệ quyền lợi của cá nhân về dữ liệu cá nhân, bao gồm dữ liệu được thu thập, xử lý, lưu trữ và sử dụng bởi các tổ chức, cá nhân. Các biện pháp được áp dụng bao gồm: (1) Quyền hạn, quyền tiếp cận, sửa chữa, yêu cầu xóa dữ liệu; (2) Trách nhiệm giải trình của tổ chức, cá nhân; (3) Xử lý dữ liệu theo mục đích, biện pháp, thời gian và địa điểm được chỉ định của cá nhân; (4) Bảo đảm an ninh, an toàn và bảo mật dữ liệu; (5) Xử lý dữ liệu theo nguyên tắc \"chỉ lấy, chỉ sử dụng, chỉ lưu trữ dữ liệu cần thiết.\" Các tổ chức, cá nhân có trách nhiệm đảm bảo tuân thủ các quy định này.\"\n",
      "}\n",
      "```\n",
      "For troubleshooting, visit: https://python.langchain.com/docs/troubleshooting/errors/OUTPUT_PARSING_FAILURE \n",
      "Error: Invalid json output: ```json\n",
      "{\n",
      " \"question\": \"Luật bảo vệ dữ liệu cá nhân trong lĩnh vực công nghệ thông tin là gì, và những biện pháp nào được áp dụng để đảm bảo quyền riêng tư của người dùng?\",\n",
      " \"answer\": \"Luật bảo vệ dữ liệu cá nhân trong lĩnh vực công nghệ thông tin (Luật An toàn Thông tin) quy định về việc bảo vệ dữ liệu cá nhân của người dùng, bao gồm cả dữ liệu được thu thập, xử lý và lưu trữ bởi các tổ chức, cá nhân trong lĩnh vực công nghệ thông tin. Các biện pháp chính bao gồm: (1) Quyền được thông báo, tiếp cận, sửa chữa, xóa dữ liệu cá nhân; (2) Quyền hạn đối với việc xử lý dữ liệu cá nhân; (3) Quyền yêu cầu, quyền phản đối, quyền yêu cầu bồi thường; (4) Quy định về bảo vệ dữ liệu trong quá trình thu thập, xử lý, lưu trữ và truyền tải dữ liệu; (5) Xử lý dữ liệu cá nhân theo nguyên tắc \"chỉ lấy, chỉ sử dụng, chỉ lưu trữ, chỉ bảo mật, chỉ xóa\" (5R). Các tổ chức phải có biện pháp bảo vệ dữ liệu cá nhân, đảm bảo tính bảo mật, toàn vẹn và tính chính xác của dữ liệu, đồng thời tuân thủ các quy định pháp luật liên quan.\"\n",
      "}\n",
      "```\n",
      "For troubleshooting, visit: https://python.langchain.com/docs/troubleshooting/errors/OUTPUT_PARSING_FAILURE \n"
     ]
    },
    {
     "name": "stderr",
     "output_type": "stream",
     "text": [
      "  7%|▋         | 286/4142 [20:10<9:04:24,  8.47s/it]"
     ]
    },
    {
     "name": "stdout",
     "output_type": "stream",
     "text": [
      "Error: Invalid json output: ```json\n",
      "{\n",
      " \"question\": \"Luật bảo vệ dữ liệu người dùng trong lĩnh vực ứng dụng di động là gì?\",\n",
      " \"answer\": \"Luật bảo vệ dữ liệu người dùng trong lĩnh vực ứng dụng di động được quy định tại Thông tư 100/2023/TT-Bक्षात्कार về an ninh mạng, an toàn thông tin mạng và bảo vệ dữ liệu cá nhân, có hiệu lực kể từ ngày 01/01/2024. Luật này nhằm bảo vệ quyền riêng tư, an toàn và tính xác thực của dữ liệu cá nhân của người dùng, đặc biệt là trong các ứng dụng di động. Luật này quy định các biện pháp xử lý dữ liệu cá nhân, quyền của người dùng, trách nhiệm của các tổ chức, nhà cung cấp dịch vụ, và các biện pháp xử lý dữ liệu theo nguyên tắc \"chỉ khi cần thiết, có biện pháp bảo vệ phù hợp, và phải hạn\". Luật này cũng quy định về việc người dùng có quyền truy cập, sửa đổi, xóa, hủy dữ liệu cá nhân của mình, cũng như quyền yêu cầu cơ quan có thẩm quyền xử lý dữ liệu cá nhân.\"\n",
      "}\n",
      "```\n",
      "For troubleshooting, visit: https://python.langchain.com/docs/troubleshooting/errors/OUTPUT_PARSING_FAILURE \n"
     ]
    },
    {
     "name": "stderr",
     "output_type": "stream",
     "text": [
      " 12%|█▏        | 513/4142 [36:45<4:40:05,  4.63s/it] "
     ]
    },
    {
     "name": "stdout",
     "output_type": "stream",
     "text": [
      "Error: Invalid json output: ```json\n",
      "{\n",
      " \"question\": \"Ngân sách cho hoạt động ứng cứu sự cố an toàn thông tin mạng được lấy từ nguồn nào?\",\n",
      " \"answer\": \"Ngân sách trung ương bảo đảm cho hoạt động ứng cứu sự cố an toàn thông tin mạng được bố trí trong dự toán chi ngân sách nhà nước của các bộ, cơ quan trung ương và các địa phương (bao gồm chi đầu tư phát triển và chi thường xuyên) và được quản lý, sử dụng, thanh quyết toán theo phân cấp ngân sách quy định tại Luật ngân sách nhà nước và các văn bản hướng dẫn thi hành. Việc bố trí kinh phí thực hiện theo nguyên tắc: Hoạt động, lực lượng thuộc cơ quan cấp nào thì bố trí kinh phí và sử dụng từ nguồn kinh phí của cơ quan cấp đó, cụ thể: a) Ngân sách trung ương bảo đảm cho: \"</blockquote>\n",
      "}\n",
      "```\n",
      "For troubleshooting, visit: https://python.langchain.com/docs/troubleshooting/errors/OUTPUT_PARSING_FAILURE \n"
     ]
    },
    {
     "name": "stderr",
     "output_type": "stream",
     "text": [
      " 14%|█▍        | 577/4142 [41:44<5:02:54,  5.10s/it]"
     ]
    },
    {
     "name": "stdout",
     "output_type": "stream",
     "text": [
      "Error: 'answer'\n"
     ]
    },
    {
     "name": "stderr",
     "output_type": "stream",
     "text": [
      " 14%|█▍        | 585/4142 [42:29<6:41:32,  6.77s/it]"
     ]
    },
    {
     "name": "stdout",
     "output_type": "stream",
     "text": [
      "Error: Invalid json output: ```json\n",
      "{\n",
      " \"question\": \"Pháp luật Việt Nam quy định về xử lý thông tin cá nhân trong bối cảnh tấn công mạng như thế nào?\",\n",
      " \"answer\": \"Luật An ninh mạng và An toàn Thông tin Mạng Việt Nam quy định, việc xử lý thông tin cá nhân trong tình huống tấn công mạng phải đảm bảo quyền lợi của cá nhân, tuân thủ các quy định về bảo vệ dữ liệu, xử lý thông tin theo nguyên tắc \"chỉ lấy, chỉ sử dụng, chỉ lưu trữ\" và có biện pháp bảo vệ dữ liệu, ngăn chặn thiệt hại.  Pháp luật cũng nhấn mạnh trách nhiệm của các tổ chức, cá nhân trong việc ứng phó với các sự cố, đảm bảo tính kịp thời và hiệu quả trong xử lý, điều tra, khắc phục hậu quả.\"\n",
      "}\n",
      "```\n",
      "For troubleshooting, visit: https://python.langchain.com/docs/troubleshooting/errors/OUTPUT_PARSING_FAILURE \n"
     ]
    },
    {
     "name": "stderr",
     "output_type": "stream",
     "text": [
      " 15%|█▌        | 637/4142 [46:22<3:16:36,  3.37s/it]"
     ]
    },
    {
     "name": "stdout",
     "output_type": "stream",
     "text": [
      "Error: POST predict: Post \"http://127.0.0.1:43797/completion\": EOF (status code: -1)\n"
     ]
    },
    {
     "name": "stderr",
     "output_type": "stream",
     "text": [
      " 24%|██▍       | 987/4142 [1:12:34<4:15:51,  4.87s/it]"
     ]
    },
    {
     "name": "stdout",
     "output_type": "stream",
     "text": [
      "Error: Invalid json output: ```json\n",
      "{\n",
      " \"question\": \"Các quy định về bảo vệ dữ liệu cá nhân trong lĩnh vực an ninh mạng là gì?\",\n",
      " \"answer\": \"Các quy định về bảo vệ dữ liệu cá nhân trong lĩnhận an ninh mạng bao gồm các quy định về việc thu thập, xử lý, lưu trữ và chia sẻ dữ liệu cá nhân. Luật An ninh Mạng quy định việc bảo vệ dữ liệu cá nhân theo nguyên tắc \"chỉ khi cần thiết, không hơn, không kém\" và đảm bảo dữ liệu cá nhân được bảo vệ an toàn và có thể truy xuất được. Luật cũng quy định về việc áp dụng các biện pháp bảo vệ dữ liệu cá nhân, bao gồm cả việc sử dụng các biện pháp kỹ thuật và tổ chức để bảo vệ dữ liệu.\"\n",
      "}\n",
      "```\n",
      "For troubleshooting, visit: https://python.langchain.com/docs/troubleshooting/errors/OUTPUT_PARSING_FAILURE \n"
     ]
    },
    {
     "name": "stderr",
     "output_type": "stream",
     "text": [
      " 25%|██▍       | 1034/4142 [1:16:12<4:20:15,  5.02s/it]"
     ]
    },
    {
     "name": "stdout",
     "output_type": "stream",
     "text": [
      "Error: Invalid json output: ```json\n",
      "{\n",
      " \"question\": \"Luật bảo vệ dữ liệu cá nhân trong lĩnh vực công nghệ thông tin có những quy định cụ thể nào về việc quản lý, sử dụng và bảo vệ dữ liệu người dùng, đặc biệt là trong bối cảnh phát triển các sản phẩm công nghệ mới?\",\n",
      " \"answer\": \"Luật bảo vệ dữ liệu cá nhân quy định về việc các tổ chức phải có biện pháp bảo vệ dữ liệu người dùng, đảm bảo dữ liệu được sử dụng một cách hợp pháp và không vi phạm quyền lợi của người dùng. Các quy định này bao gồm việc xác định rõ trách nhiệm của tổ chức, bảo vệ dữ liệu khỏi truy cập trái phép, sử dụng sai mục đích, tiết lộ, thay đổi, hoặc phá hủy, cũng như quy định về quyền của người dùng trong việc truy cập, sửa đổi, xóa dữ liệu của mình. Đặc biệt, luật này nhấn mạnh tầm quan trọng của việc có các biện pháp bảo vệ dữ liệu, bao gồm cả việc xác thực, xác minh, bảo mật, và kiểm soát truy cập dữ liệu. בנוסף, luật có quy định về việc xử lý dữ liệu cá nhân theo nguyên tắc \"chỉ lấy, chỉ sử dụng, chỉ lưu trữ dữ liệu cần thiết\" và có các biện pháp xử lý dữ liệu khi dữ liệu bị mất mát, hư hỏng, hoặc bị tiết lộ trái phép.\"\n",
      "}\n",
      "```\n",
      "For troubleshooting, visit: https://python.langchain.com/docs/troubleshooting/errors/OUTPUT_PARSING_FAILURE \n"
     ]
    },
    {
     "name": "stderr",
     "output_type": "stream",
     "text": [
      " 30%|███       | 1256/4142 [1:32:34<3:42:44,  4.63s/it]"
     ]
    },
    {
     "name": "stdout",
     "output_type": "stream",
     "text": [
      "Error: Invalid json output: ```json\n",
      "{\n",
      " \"question\": \"Các quy định về bảo vệ dữ liệu người dùng trong khu công nghệ cao là gì?\",\n",
      " \"answer\": \"Tài liệu quy định các quy định về bảo vệ dữ liệu người dùng trong khu công nghệ cao, bao gồm việc thu thập, sử dụng, lưu trữ và xử lý dữ liệu cá nhân theo quy định của pháp luật. Các quy định này tập trung vào quyền của người dùng, đảm bảo tính bảo mật, không tiết lộ và phục hồi dữ liệu, cũng như xử lý dữ liệu theo nguyên tắc \"chỉ khi cần thiết\" và theo phương pháp an toàn.\"\n",
      "}\n",
      "```\n",
      "For troubleshooting, visit: https://python.langchain.com/docs/troubleshooting/errors/OUTPUT_PARSING_FAILURE \n"
     ]
    },
    {
     "name": "stderr",
     "output_type": "stream",
     "text": [
      " 39%|███▉      | 1621/4142 [2:01:10<3:22:53,  4.83s/it]"
     ]
    },
    {
     "name": "stdout",
     "output_type": "stream",
     "text": [
      "Error: POST predict: Post \"http://127.0.0.1:41105/completion\": EOF (status code: -1)\n"
     ]
    },
    {
     "name": "stderr",
     "output_type": "stream",
     "text": [
      " 41%|████      | 1692/4142 [2:06:44<3:54:30,  5.74s/it]"
     ]
    },
    {
     "name": "stdout",
     "output_type": "stream",
     "text": [
      "Error: Invalid json output: ```json\n",
      "{\n",
      " \"question\": \"Luật An ninh chính trị nội bộ có quy định gì về bảo vệ dữ liệu người dùng trong lĩnh vực công nghệ thông tin?\",\n",
      " \"answer\": \"Luật An ninh chính trị nội bộ quy định, việc bảo vệ dữ liệu người dùng trong lĩnh vực công nghệ thông tin phải đảm bảo tính bảo mật, an toàn, và không cho phép sử dụng trái phép, tiết lộ, hoặc chuyển giao dữ liệu cho các mục đích khác ngoài mục đích đã thỏa thuận, theo quy định của pháp luật.  Luật cũng quy định các biện pháp bảo vệ dữ liệu, bao gồm cả việc xử lý dữ liệu theo nguyên tắc \"chỉ khi cần, chỉ để, và không dài hơn thời gian cần thiết'.\"\"\n",
      "}\n",
      "```\n",
      "For troubleshooting, visit: https://python.langchain.com/docs/troubleshooting/errors/OUTPUT_PARSING_FAILURE \n"
     ]
    },
    {
     "name": "stderr",
     "output_type": "stream",
     "text": [
      " 45%|████▌     | 1870/4142 [2:19:41<2:55:37,  4.64s/it]"
     ]
    },
    {
     "name": "stdout",
     "output_type": "stream",
     "text": [
      "Error: Invalid json output: ```json\n",
      "{\n",
      " \"question\": \"Các quy định về bảo vệ thông tin cá nhân trong lĩnh vực Internet như thế nào, đặc biệt khi liên quan đến việc sử dụng tên miền?”,\n",
      " \"answer\": \"Tài liệu quy định việc xử lý, bảo vệ và hạn chế việc sử dụng tên miền “.vn” để tránh gây hiểu lầm hoặc lừa đảo, đồng thời đảm bảo thông tin cá nhân được bảo vệ theo quy định của pháp luật.”\n",
      "}\n",
      "```\n",
      "For troubleshooting, visit: https://python.langchain.com/docs/troubleshooting/errors/OUTPUT_PARSING_FAILURE \n"
     ]
    },
    {
     "name": "stderr",
     "output_type": "stream",
     "text": [
      " 59%|█████▉    | 2454/4142 [3:03:33<2:28:57,  5.29s/it]"
     ]
    },
    {
     "name": "stdout",
     "output_type": "stream",
     "text": [
      "Error: Invalid json output: ```json\n",
      "{\n",
      " \"question\": \"Các quy định pháp luật về bảo vệ dữ liệu cá nhân trong ngành than đá là gì?\",\n",
      " \"answer\": \"Các quy định pháp luật về bảo vệ dữ liệu cá nhân trong ngành than đá bao gồm Luật Bảo vệ Dữ liệu cá nhân, Luật An ninh mạng, và các quy định của Bộ Thông tin và Truyền thông. Việc thu thập, xử lý, lưu trữ và truyền tải dữ liệu cá nhân của nhân viên, khách hàng, và các bên liên quan phải tuân thủ các quy định về quyền riêng tư, an toàn thông tin, và bảo vệ dữ liệu. Các quy định này tập trung vào việc đảm bảo dữ liệu được bảo mật, không được sử dụng trái phép, và có thể phục hồi trong trường hợp cần thiết để phục vụ mục đích pháp lý.  Ngoài ra, cần có quy trình xử lý dữ liệu cá nhân theo nguyên tắc \"chỉ khi cần, chỉ để khi cần, và không phái dữ liệu ra ngoài khỏi phạm vi hoạt động của tổ chức\".\"\n",
      "}\n",
      "```\n",
      "For troubleshooting, visit: https://python.langchain.com/docs/troubleshooting/errors/OUTPUT_PARSING_FAILURE \n"
     ]
    },
    {
     "name": "stderr",
     "output_type": "stream",
     "text": [
      " 64%|██████▍   | 2656/4142 [3:19:03<2:03:58,  5.01s/it]"
     ]
    },
    {
     "name": "stdout",
     "output_type": "stream",
     "text": [
      "Error: Invalid json output: ```json\n",
      "{\n",
      " \"question\": \"Phân tích các quy định về bảo vệ dữ liệu cá nhân theo luật an ninh mạng Việt Nam, đặc biệt là về trách nhiệm của các tổ chức thu thập, xử lý và lưu trữ dữ liệu cá nhân.\",\n",
      " \"answer\": \"Luật An ninh mạng và An toàn Thông tin Mạng Việt Nam quy định rõ trách nhiệm của các tổ chức thu thập, xử lý và lưu trữ dữ liệu cá nhân.  Các quy định này tập trung vào việc đảm bảo dữ liệu cá nhân được bảo vệ an toàn, không bị lạm dụng, khai thác hoặc bị xâm phạm.  Các quy định này bao gồm: (1) **Quy định về bảo vệ dữ liệu cá nhân:**  Các quy định này xác định các quyền và nghĩa vụ của cá nhân về dữ liệu cá nhân, bao gồm quyền truy cập, sửa đổi, hạn chế và xóa dữ liệu. (2) **Trách nhiệm của tổ chức:**  Các tổ chức phải có trách nhiệm bảo đảm an toàn, hiệu quả và bảo mật dữ liệu cá nhân, bao gồm việc thiết lập các biện pháp bảo mật, kiểm soát truy cập, và xử lý dữ liệu một cách hợp lý. (3)  **Quy định về xử lý dữ liệu:**  Các quy định này quy định về việc xử lý dữ liệu cá nhân, bao gồm việc sử dụng, tiết lộ, lưu trữ, bảo vệ và xóa dữ liệu.  Các quy định này cũng nhấn mạnh tầm quan trọng của việc tuân thủ các quy định về bảo vệ dữ liệu cá nhân, bao gồm việc có các biện pháp bảo mật phù hợp, kiểm soát truy cập, và đảm bảo tính bảo mật, toàn vẹn và tính sẵn có của dữ liệu.  Ngoài ra, luật còn quy định về việc xử lý dữ liệu theo nguyên tắc \"chỉ khi cần, chỉ để khi cần, và không phái dữ liệu ra ngoài khỏi phạm vi hoạt động của tổ chức.\"  Việc tuân thủ các quy định này là rất quan trọng để bảo vệ quyền lợi của cá nhân trong bối cảnh công nghệ số ngày càng phát triển.\"\n",
      "}\n",
      "```\n",
      "For troubleshooting, visit: https://python.langchain.com/docs/troubleshooting/errors/OUTPUT_PARSING_FAILURE \n"
     ]
    },
    {
     "name": "stderr",
     "output_type": "stream",
     "text": [
      " 64%|██████▍   | 2666/4142 [3:19:53<2:03:30,  5.02s/it]"
     ]
    },
    {
     "name": "stdout",
     "output_type": "stream",
     "text": [
      "Error: Invalid json output: ```json\n",
      "{\n",
      " \"question\": \"Theo quy định về bảo vệ dữ liệu cá nhân trong Luật An ninh Mạng và An toàn Thông tin Mạng, những biện pháp nào cần thực hiện để đảm bảo an toàn thông tin cá nhân của người dùng?\",\n",
      " \"answer\": \"Các biện pháp cần thực hiện bao gồm: 1. Xây dựng và duy trì chính sách bảo mật dữ liệu rõ ràng, dễ hiểu. 2. Kiểm soát quyền truy cập dữ liệu theo nguyên tắc \"nghĩa vụ truy cập\" (least privilege). 3. Triển khai các biện pháp bảo vệ dữ liệu như mã hóa, kiểm soát truy cập, và theo dõi hoạt động. 4. Thực hiện đánh giá rủi ro bảo mật thường xuyên. 5. Đảm bảo tuân thủ các quy định về quyền riêng tư và bảo vệ dữ liệu theo Luật An ninh Mạng và An toàn Thông tin Mạng.\"\n",
      "}\n",
      "```\n",
      "For troubleshooting, visit: https://python.langchain.com/docs/troubleshooting/errors/OUTPUT_PARSING_FAILURE \n"
     ]
    },
    {
     "name": "stderr",
     "output_type": "stream",
     "text": [
      " 66%|██████▌   | 2714/4142 [3:23:11<2:17:29,  5.78s/it]"
     ]
    },
    {
     "name": "stdout",
     "output_type": "stream",
     "text": [
      "Error: 'answer'\n"
     ]
    },
    {
     "name": "stderr",
     "output_type": "stream",
     "text": [
      " 72%|███████▏  | 2999/4142 [3:44:21<1:15:19,  3.95s/it]"
     ]
    },
    {
     "name": "stdout",
     "output_type": "stream",
     "text": [
      "Error: POST predict: Post \"http://127.0.0.1:39295/completion\": EOF (status code: -1)\n"
     ]
    },
    {
     "name": "stderr",
     "output_type": "stream",
     "text": [
      " 73%|███████▎  | 3006/4142 [3:45:00<1:18:36,  4.15s/it]"
     ]
    },
    {
     "name": "stdout",
     "output_type": "stream",
     "text": [
      "Error: POST predict: Post \"http://127.0.0.1:37267/completion\": EOF (status code: -1)\n"
     ]
    },
    {
     "name": "stderr",
     "output_type": "stream",
     "text": [
      " 74%|███████▍  | 3074/4142 [3:50:10<1:17:34,  4.36s/it]"
     ]
    },
    {
     "name": "stdout",
     "output_type": "stream",
     "text": [
      "Error: Invalid json output: ```json\n",
      "{\n",
      " \"question\": \"Theo quy định về bảo vệ dữ liệu cá nhân, nhà nước Việt Nam có những biện pháp nào để đảm bảo an toàn thông tin mạng và bảo vệ quyền lợi của người dùng?\",\n",
      " \"answer\": \"Nghĩa là, nhà nước Việt Nam áp dụng các biện pháp nào để bảo vệ dữ liệu cá nhân trong môi trường mạng, đặc biệt là đối với các hoạt động liên quan đến an ninh mạng và bảo vệ thông tin?  Ví dụ như, quy định về xử lý dữ liệu, trách nhiệm của các tổ chức, hoặc các biện pháp kiểm tra, giám sát để đảm bảo an toàn thông tin?\",\n",
      "}\n",
      "```\n",
      "For troubleshooting, visit: https://python.langchain.com/docs/troubleshooting/errors/OUTPUT_PARSING_FAILURE \n"
     ]
    },
    {
     "name": "stderr",
     "output_type": "stream",
     "text": [
      " 74%|███████▍  | 3084/4142 [3:51:00<1:15:23,  4.28s/it]"
     ]
    },
    {
     "name": "stdout",
     "output_type": "stream",
     "text": [
      "Error: Invalid json output: ```json\n",
      "{\n",
      " \"question\": \"Luật an ninh mạng Việt Nam quy định về trách nhiệm của cá nhân và tổ chức trong việc bảo vệ thông tin cá nhân và dữ liệu công khai như thế nào?\",\n",
      " \"answer\": \"Luật an ninh mạng Việt Nam quy định trách nhiệm của cá nhân và tổ chức trong việc bảo vệ thông tin cá nhân và dữ liệu công khai, bao gồm các quy định về việc bảo mật thông tin, trách nhiệm xử lý dữ liệu, và biện pháp xử phạt vi phạm pháp luật.  Nghĩa vụ của cá nhân là bảo vệ thông tin cá nhân của mình, trong khi tổ chức có trách nhiệm xây dựng và thực hiện các biện pháp bảo mật thông tin, đảm bảo tuân thủ các quy định pháp luật liên quan.  Luật cũng quy định trách nhiệm của các tổ chức, cá nhân trong và ngoài nước, liên kết, trong việc bảo vệ thông tin công khai, đặc biệt là thông tin nhạy cảm, và có thể bị hậu quả pháp lý nếu vi phạm.  Ngoài ra, luật cũng nhấn mạnh về việc xử lý dữ liệu theo nguyên tắc \"chỉ lấy, chỉ sử dụng, chỉ lưu trữ dữ liệu cần thiết\" và đảm bảo an toàn thông tin.\"\n",
      "}\n",
      "```\n",
      "For troubleshooting, visit: https://python.langchain.com/docs/troubleshooting/errors/OUTPUT_PARSING_FAILURE \n"
     ]
    },
    {
     "name": "stderr",
     "output_type": "stream",
     "text": [
      " 76%|███████▌  | 3137/4142 [3:54:58<1:22:15,  4.91s/it]"
     ]
    },
    {
     "name": "stdout",
     "output_type": "stream",
     "text": [
      "Error: Invalid json output: ```json\n",
      "{\n",
      " \"question\": \"Các quy định về bảo vệ dữ liệu cá nhân trong nước có những yếu tố nào đặc biệt được nhấn mạnh trong tài liệu?\",\n",
      " \"answer\": \"Tài liệu nhấn mạnh sự quan trọng của việc xây dựng và thực thi các quy định về bảo vệ dữ liệu cá nhân, đặc biệt là trong bối cảnh phát triển của Việt Nam. Các quy định này tập trung vào việc đảm bảo tính bảo mật, toàn vẹn và tính bảo gian dữ liệu cá nhân, đồng thời tạo điều kiện cho việc sử dụng dữ liệu cá nhân một cách hợp pháp và có trách nhiệm. Tài liệu đề cập đến việc xây dựng hệ thống quản lý dữ liệu, kiểm soát truy cập dữ liệu, và xử lý dữ liệu theo nguyên tắc \"chỉ khi cần, chỉ nơi cần, chỉ thời điểm cần.\"\"\n",
      "}\n",
      "```\n",
      "For troubleshooting, visit: https://python.langchain.com/docs/troubleshooting/errors/OUTPUT_PARSING_FAILURE \n"
     ]
    },
    {
     "name": "stderr",
     "output_type": "stream",
     "text": [
      " 76%|███████▌  | 3142/4142 [3:55:27<1:27:43,  5.26s/it]"
     ]
    },
    {
     "name": "stdout",
     "output_type": "stream",
     "text": [
      "Error: Invalid json output: ```json\n",
      "{\n",
      " \"question\": \"Các quy định pháp luật về bảo vệ dữ liệu cá nhân, đặc biệt là theo Luật An ninh Mạng Việt Nam, có những điểm cụ thể nào liên quan đến việc đảm bảo an toàn thông tin mạng và bảo vệ quyền riêng tư của người dùng?\",\n",
      " \"answer\": \"Luật An ninh Mạng Việt Nam quy định về bảo vệ thông tin cá nhân, bao gồm cả dữ liệu được thu thập, xử lý và lưu trữ. Các quy định này tập trung vào việc bảo vệ thông tin cá nhân khỏi các hành vi xâm phạm, bao gồm cả các hành vi sử dụng trái phép, tiết lộ, thay đổi, xóa bỏ hoặc tiết lộ thông tin cá nhân mà không có sự cho phép của người có quyền. Luật này cũng có các quy định về trách nhiệm của các tổ chức, cá nhân trong việc bảo vệ dữ liệu, bao gồm cả việc thiết lập các biện pháp bảo mật, kiểm soát truy cập, và xử lý dữ liệu. Đặc biệt, luật có quy định về việc bảo vệ dữ liệu cá nhân trong các lĩnh vực như thông tin liên hệ, thông tin tài chính, thông tin sức khỏe, và thông tin về quyền lợi của người sử dụng.  Ngoài ra, luật cũng có các quy định về việc xử lý dữ liệu theo nguyên tắc \"chỉ khi cần, bằng cách hợp lý\" và \"tối thiểu hóa\" dữ liệu.\"\n",
      "}\n",
      "```\n",
      "For troubleshooting, visit: https://python.langchain.com/docs/troubleshooting/errors/OUTPUT_PARSING_FAILURE \n"
     ]
    },
    {
     "name": "stderr",
     "output_type": "stream",
     "text": [
      " 79%|███████▉  | 3276/4142 [4:06:27<57:15,  3.97s/it]  "
     ]
    },
    {
     "name": "stdout",
     "output_type": "stream",
     "text": [
      "Error: Invalid json output: ```json\n",
      "{\n",
      " \"question\": \"Theo quy định về bảo vệ dữ liệu cá nhân trong lĩnh vực công nghệ thông tin, các cơ quan chức năng có những biện pháp nào để đảm bảo an toàn thông tin của người dùng?\",\n",
      " \"answer\": \"Các cơ quan chức năng có quy định về việc thu thập, lưu trữ, xử lý và bảo vệ dữ liệu cá nhân theo quy định của pháp luật. Việc này bao gồm việc thiết lập các biện pháp bảo mật, kiểm soát truy cập dữ liệu, và có biện pháp xử lý dữ liệu khi có vi phạm.  Các biện pháp này thường được quy định trong Luật An ninh Mạng và An toàn Thông tin Mạng, cũng như các văn bản pháp quy khác của Bộ KH&CN và các đơn vị liên quan.  Ví dụ, việc có quy trình xử lý dữ liệu cá nhân theo nguyên tắc \"chỉ khi cần, chỉ để cần, và bảo vệ dữ liệu đến khi hết hạn\" là một yêu cầu quan trọng.\"\n",
      "}\n",
      "```\n",
      "For troubleshooting, visit: https://python.langchain.com/docs/troubleshooting/errors/OUTPUT_PARSING_FAILURE \n"
     ]
    },
    {
     "name": "stderr",
     "output_type": "stream",
     "text": [
      " 80%|████████  | 3322/4142 [4:09:46<53:56,  3.95s/it]  "
     ]
    },
    {
     "name": "stdout",
     "output_type": "stream",
     "text": [
      "Error: Invalid json output: ```json\n",
      "{\n",
      " \"question\": \"Theo quy định về bảo vệ dữ liệu cá nhân trong Luật An ninh Mạng Việt Nam, những biện pháp nào cần thực hiện để đảm bảo an toàn và bảo mật thông tin cá nhân trên mạng?\",\n",
      " \"answer\": \"Luật An ninh Mạng Việt Nam quy định về bảo vệ dữ liệu cá nhân, đặc biệt là về quyền riêng tư và an toàn thông tin. Các biện pháp cần thực hiện bao gồm: 1) Xác định rõ phạm vi thu thập, xử lý, lưu trữ và truyền tải dữ liệu cá nhân; 2) Đảm bảo an toàn thông tin trong quá trình thu thập, xử lý, lưu trữ và truyền tải; 3) Thực hiện kiểm tra, xác thực và bảo vệ dữ liệu cá nhân; 4) Ghi giữ, lưu trữ và xử lý dữ liệu cá nhân theo quy định pháp luật; 5) Xây dựng và thực hiện các biện pháp bảo vệ dữ liệu cá nhân, bao gồm cả bảo mật thông tin, kiểm soát truy cập, và xử lý dữ liệu theo nguyên tắc \"chỉ làm cho dữ liệu khi cần thiết, cho đến khi cần thiết.\"\"\n",
      "}\n",
      "```\n",
      "For troubleshooting, visit: https://python.langchain.com/docs/troubleshooting/errors/OUTPUT_PARSING_FAILURE \n"
     ]
    },
    {
     "name": "stderr",
     "output_type": "stream",
     "text": [
      " 81%|████████  | 3343/4142 [4:11:25<54:19,  4.08s/it]  "
     ]
    },
    {
     "name": "stdout",
     "output_type": "stream",
     "text": [
      "Error: Invalid json output: ```json\n",
      "{\n",
      " \"question\": \"Theo quy định về bảo vệ dữ liệu cá nhân, điều gì là quan trọng nhất trong việc thiết kế và triển khai hệ thống thu thập và xử lý dữ liệu người dùng?\",\n",
      " \"answer\": \"Luật bảo vệ dữ liệu cá nhân quy định rằng dữ liệu cá nhân phải được bảo vệ theo nguyên tắc \"chỉ sử dụng, chỉ lưu trữ, chỉ xử lý và chỉ truyền tải dữ liệu cho những người có quyền theo luật pháp.\" Điều này bao gồm việc đảm bảo dữ liệu được bảo vệ an toàn, được lưu trữ an toàn, được sử dụng một cách hợp lý và chỉ được truyền tải cho những người có quyền. Việc thiết kế hệ thống thu thập và xử lý dữ liệu phải tuân thủ các quy định này để đảm bảo quyền lợi của người dùng và bảo vệ tính riêng tư.\"\n",
      "}\n",
      "```\n",
      "For troubleshooting, visit: https://python.langchain.com/docs/troubleshooting/errors/OUTPUT_PARSING_FAILURE \n"
     ]
    },
    {
     "name": "stderr",
     "output_type": "stream",
     "text": [
      " 92%|█████████▏| 3800/4142 [4:42:21<35:12,  6.18s/it]  "
     ]
    },
    {
     "name": "stdout",
     "output_type": "stream",
     "text": [
      "Error: Invalid json output: ```json\n",
      "{\n",
      " \"question\": \"Phân tích quy định về bảo vệ dữ liệu người dùng trong công ty cổ phần, đặc biệt là về trách nhiệm của nhà nước và các biện pháp xử lý dữ liệu.\",\n",
      " \"answer\": \"Công ty cổ phần có quy định về bảo vệ dữ liệu người dùng, bao gồm việc đảm bảo dữ liệu được sử dụng một cách hợp pháp, bảo mật, và tuân thủ các quy định của pháp luật. Nhà nước có trách nhiệm giám sát và kiểm soát việc sử dụng dữ liệu, đặc biệt là dữ liệu cá nhân của người dùng. Các biện pháp xử lý dữ liệu được quy định trong Nghị định 109/2007 có các quy định về việc bảo vệ dữ liệu, bao gồm việc thiết lập các biện pháp bảo mật, kiểm soát truy cập, và xử lý dữ liệu theo nguyên tắc \"chỉ khi cần, chỉ để cần, và không giữ lại dữ liệu ngoài phạm vi cần thiết.\"  Ngoài ra, công ty có quy định về việc xử lý dữ liệu theo quy định của pháp luật, đảm bảo dữ liệu được bảo vệ an toàn và không bị lạm dụng.\"\n",
      "}\n",
      "```\n",
      "For troubleshooting, visit: https://python.langchain.com/docs/troubleshooting/errors/OUTPUT_PARSING_FAILURE \n"
     ]
    },
    {
     "name": "stderr",
     "output_type": "stream",
     "text": [
      "100%|██████████| 4142/4142 [5:08:20<00:00,  4.47s/it]\n"
     ]
    }
   ],
   "source": [
    "import pandas as pd\n",
    "from tqdm.auto import tqdm\n",
    "import random\n",
    "\n",
    "# Define the number of pairs per chunk\n",
    "min_pairs = 2\n",
    "max_pairs = 3\n",
    "\n",
    "max_try = 5\n",
    "\n",
    "# Initialize an empty list to store the pairs\n",
    "pairs = []\n",
    "\n",
    "error_chunks = []\n",
    "\n",
    "chunk_metadata = pd.read_csv('data/chunks.csv')\n",
    "# Iterate over the chunks\n",
    "for i in tqdm(range(len(chunk_metadata))):\n",
    "    # Invoke the chain to generate the pairs\n",
    "    chunk = chunk_metadata['content'][i]\n",
    "    cid = chunk_metadata['cid'][i]\n",
    "    num_pairs = random.randint(min_pairs, max_pairs)\n",
    "\n",
    "    for _ in range(num_pairs):\n",
    "        for _ in range(max_try):\n",
    "            try:\n",
    "                result = label_chain.invoke({\"chunk\": chunk})\n",
    "                # Extract the question and answer from the result\n",
    "                question = result['question']\n",
    "                answer = result['answer']\n",
    "                # Create a dictionary with the question, answer, and corpus id\n",
    "                pair = {'question': question, 'answer': answer, 'cid': cid, 'corpus': chunk}\n",
    "                # Append the pair to the list\n",
    "                pairs.append(pair)\n",
    "                break\n",
    "            except Exception as e:\n",
    "                print(f\"Error: {e}\")\n",
    "        else:\n",
    "            error_chunks.append(cid)\n",
    "\n",
    "# Create a pandas DataFrame from the list of pairs\n",
    "df = pd.DataFrame(pairs)\n",
    "df.to_csv('data/train_data.csv', index=False)"
   ]
  },
  {
   "cell_type": "code",
   "execution_count": 6,
   "metadata": {},
   "outputs": [
    {
     "name": "stdout",
     "output_type": "stream",
     "text": [
      "0\n"
     ]
    }
   ],
   "source": [
    "print(len(error_chunks))"
   ]
  },
  {
   "cell_type": "code",
   "execution_count": 9,
   "metadata": {},
   "outputs": [
    {
     "name": "stdout",
     "output_type": "stream",
     "text": [
      "Train data saved to data/train_data.csv\n",
      "Test data saved to data/test_data.csv\n"
     ]
    }
   ],
   "source": [
    "from sklearn.model_selection import train_test_split\n",
    "# Split the DataFrame into training and testing sets\n",
    "train_df, test_df = train_test_split(df, test_size=0.2, random_state=42)\n",
    "# Save the training and testing sets to CSV files\n",
    "train_df.to_csv('data/train_data.csv', index=False)\n",
    "test_df.to_csv('data/test_data.csv', index=False)\n",
    "print(\"Train data saved to data/train_data.csv\")\n",
    "print(\"Test data saved to data/test_data.csv\")"
   ]
  }
 ],
 "metadata": {
  "kernelspec": {
   "display_name": "chatbots",
   "language": "python",
   "name": "python3"
  },
  "language_info": {
   "codemirror_mode": {
    "name": "ipython",
    "version": 3
   },
   "file_extension": ".py",
   "mimetype": "text/x-python",
   "name": "python",
   "nbconvert_exporter": "python",
   "pygments_lexer": "ipython3",
   "version": "3.11.11"
  }
 },
 "nbformat": 4,
 "nbformat_minor": 2
}
