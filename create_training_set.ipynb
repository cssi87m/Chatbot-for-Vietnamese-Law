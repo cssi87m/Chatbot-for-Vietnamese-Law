{
 "cells": [
  {
   "cell_type": "code",
   "execution_count": 1,
   "metadata": {},
   "outputs": [],
   "source": [
    "from langchain_core.prompts.chat import ChatPromptTemplate\n",
    "from langchain.prompts import ChatPromptTemplate\n",
    "from langchain_core.output_parsers import JsonOutputParser\n",
    "from langchain_ollama import ChatOllama"
   ]
  },
  {
   "cell_type": "code",
   "execution_count": 2,
   "metadata": {},
   "outputs": [],
   "source": [
    "# import pandas as pd \n",
    "\n",
    "# chunk_metadata = pd.read_csv('chunks.csv')\n",
    "# chunk_metadata['text'][561]"
   ]
  },
  {
   "cell_type": "code",
   "execution_count": 3,
   "metadata": {},
   "outputs": [],
   "source": [
    "import os\n",
    "# Force GPU usage\n",
    "os.environ[\"OLLAMA_ACCELERATOR\"] = \"gpu\"\n",
    "\n",
    "chat_model = ChatOllama(\n",
    "    model=\"gemma3:1b\",\n",
    "    num_predict = 512,\n",
    "    temperature=0,\n",
    "    top_k=10,\n",
    "    additional_kwargs = {'gpu': True})"
   ]
  },
  {
   "cell_type": "code",
   "execution_count": 4,
   "metadata": {},
   "outputs": [],
   "source": [
    "label_template = \"\"\"\n",
    "Bạn là trợ lý AI được giao nhiệm vụ tạo ra một cặp câu hỏi-trả lời thực tế duy nhất dựa trên một vài tài liệu nhất định về pháp luật Việt Nam, về luật an ninh mạng và an toàn thông tin mạng, các sản phẩm về công nghệ thông tin, mật mã, dữ liệu người dùng. \n",
    "Câu hỏi phải là thứ mà người dùng có thể tự nhiên hỏi khi tìm kiếm thông tin có trong tài liệu.\n",
    "Với tài liệu: {chunk}\n",
    "\n",
    "Hãy tuân theo các yêu cầu sau khi tạo câu hỏi - câu trả lời:\n",
    "\n",
    "1. Phân tích các chủ đề, sự kiện và quy định quan trọng trong tài liệu đã cho, chọn một chủ đề cụ thể liên quan đến luật an ninh mạng hoặc an toàn thông tin mạng.\n",
    "2. Tạo ra một câu hỏi tự nhiên mà người dùng có thể hỏi để tìm kiếm thông tin trong tài liệu này.\n",
    "3. Sử dụng ngôn ngữ tự nhiên, có thể bao gồm lỗi đánh máy nhỏ hoặc cách diễn đạt thông thường của người dùng khi tìm kiếm.\n",
    "4. Đảm bảo câu hỏi có liên quan về mặt ngữ nghĩa với nội dung tài liệu MÀ KHÔNG sao chép trực tiếp các cụm từ.\n",
    "5. Đảm bảo rằng tất cả các câu hỏi đều tập trung vào một chủ đề tương tự hoặc yêu cầu cùng một dạng thông tin.\n",
    "6. Đảm bảo câu hỏi và câu trả lời được viết bằng tiếng Việt.\n",
    "7: Đảm bảo rằng đầu ra phải là một JSON hợp lệ chứa cả 'question' và 'answer'. Nếu đầu ra không chứa cả 'question' và 'answer', kết quả sẽ bị coi là không hợp lệ.\n",
    "\n",
    "Trả về một đối tượng JSON có cấu trúc như sau:\n",
    "{{\n",
    "  \"question\": \"Văn bản câu hỏi đã tạo\",\n",
    "  \"answer\": \"Văn bản câu trả lời đã tạo\"\n",
    "}}\n",
    "\n",
    "LƯU Ý QUAN TRỌNG: Chỉ trả về đối tượng JSON, không thêm bất kỳ văn bản nào khác. Không thêm ghi chú, giải thích, hoặc bất kỳ thông tin nào ngoài JSON.\n",
    "\"\"\"\n",
    "\n",
    "label_prompt = ChatPromptTemplate.from_template(label_template, stream = False)\n",
    "\n",
    "label_chain = label_prompt | chat_model | JsonOutputParser()\n",
    "# label_chain = label_prompt | chat_model"
   ]
  },
  {
   "cell_type": "code",
   "execution_count": 5,
   "metadata": {},
   "outputs": [
    {
     "name": "stderr",
     "output_type": "stream",
     "text": [
      "/home/quangminh/anaconda3/envs/chatbots/lib/python3.11/site-packages/tqdm/auto.py:21: TqdmWarning: IProgress not found. Please update jupyter and ipywidgets. See https://ipywidgets.readthedocs.io/en/stable/user_install.html\n",
      "  from .autonotebook import tqdm as notebook_tqdm\n",
      "  6%|▋         | 37/590 [02:43<40:35,  4.41s/it]"
     ]
    },
    {
     "name": "stdout",
     "output_type": "stream",
     "text": [
      "Error: Invalid json output: ```json\n",
      "{\n",
      " \"question\": \"Luật an ninh quốc gia, trật tự, an toàn xã hội bao gồm các hành vi nào liên quan đến việc vi phạm thông tin trên không gian mạng?\",\n",
      " \"answer\": \"Các hành vi liên quan đến việc vi phạm pháp luật về an ninh quốc gia, trật tự, an toàn xã hội bao gồm đăng tải, phát tán thông tin trên không gian mạng có nội dung quy định tại các khoản 1, 2, 3, 4 và 5 Điều 16 và hành vi quy định tại khoản 1 Điều 17 của Luật này; chiếm đoạt tài sản; tổ chức đánh bạc, đánh bạc qua mạng Internet; trộm cước cước viễn thông quốc tế trên nền Internet; vi phạm bản quyền và sở hữu trí tuệ trên không gian mạng; giả mạo trang thông tin điện tử của cơ quan, tổ chức, cá nhân; làm giả, lưu hành, trộm cắp, mua bán, thu thập, trao đổi trái phép thông tin thẻ tín dụng, tài khoản ngân hàng của người khác; phát hành, cung cấp, sử dụng trái phép các phương tiện thanh toán; hướng dẫn người khác thực hiện hành vi vi phạm pháp luật;\".\n",
      "}\n",
      "```\n",
      "For troubleshooting, visit: https://python.langchain.com/docs/troubleshooting/errors/OUTPUT_PARSING_FAILURE \n",
      "Error: Invalid json output: ```json\n",
      "{\n",
      " \"question\": \"Luật an ninh quốc gia, trật tự, an toàn xã hội bao gồm các hành vi nào liên quan đến việc vi phạm thông tin trên không gian mạng?\",\n",
      " \"answer\": \"Các hành vi liên quan đến việc vi phạm pháp luật về an ninh quốc gia, trật tự, an toàn xã hội bao gồm đăng tải, phát tán thông tin trên không gian mạng có nội dung quy định tại các khoản 1, 2, 3, 4 và 5 Điều 16 và hành vi quy định tại khoản 1 Điều 17 của Luật này; chiếm đoạt tài sản; tổ chức đánh bạc, đánh bạc qua mạng Internet; trộm cước cước viễn thông quốc tế trên nền Internet; vi phạm bản quyền và sở hữu trí tuệ trên không gian mạng; giả mạo trang thông tin điện tử của cơ quan, tổ chức, cá nhân; làm giả, lưu hành, trộm cắp, mua bán, thu thập, trao đổi trái phép thông tin thẻ tín dụng, tài khoản ngân hàng của người khác; phát hành, cung cấp, sử dụng trái phép các phương tiện thanh toán; hướng dẫn người khác thực hiện hành vi vi phạm pháp luật;\".\n",
      "}\n",
      "```\n",
      "For troubleshooting, visit: https://python.langchain.com/docs/troubleshooting/errors/OUTPUT_PARSING_FAILURE \n",
      "Error: Invalid json output: ```json\n",
      "{\n",
      " \"question\": \"Luật an ninh quốc gia, trật tự, an toàn xã hội bao gồm các hành vi nào liên quan đến việc vi phạm thông tin trên không gian mạng?\",\n",
      " \"answer\": \"Các hành vi liên quan đến việc vi phạm pháp luật về an ninh quốc gia, trật tự, an toàn xã hội bao gồm đăng tải, phát tán thông tin trên không gian mạng có nội dung quy định tại các khoản 1, 2, 3, 4 và 5 Điều 16 và hành vi quy định tại khoản 1 Điều 17 của Luật này; chiếm đoạt tài sản; tổ chức đánh bạc, đánh bạc qua mạng Internet; trộm cước cước viễn thông quốc tế trên nền Internet; vi phạm bản quyền và sở hữu trí tuệ trên không gian mạng; giả mạo trang thông tin điện tử của cơ quan, tổ chức, cá nhân; làm giả, lưu hành, trộm cắp, mua bán, thu thập, trao đổi trái phép thông tin thẻ tín dụng, tài khoản ngân hàng của người khác; phát hành, cung cấp, sử dụng trái phép các phương tiện thanh toán; hướng dẫn người khác thực hiện hành vi vi phạm pháp luật;\".\n",
      "}\n",
      "```\n",
      "For troubleshooting, visit: https://python.langchain.com/docs/troubleshooting/errors/OUTPUT_PARSING_FAILURE \n",
      "Error: Invalid json output: ```json\n",
      "{\n",
      " \"question\": \"Luật an ninh quốc gia, trật tự, an toàn xã hội bao gồm các hành vi nào liên quan đến việc vi phạm thông tin trên không gian mạng?\",\n",
      " \"answer\": \"Các hành vi liên quan đến việc vi phạm pháp luật về an ninh quốc gia, trật tự, an toàn xã hội bao gồm đăng tải, phát tán thông tin trên không gian mạng có nội dung quy định tại các khoản 1, 2, 3, 4 và 5 Điều 16 và hành vi quy định tại khoản 1 Điều 17 của Luật này; chiếm đoạt tài sản; tổ chức đánh bạc, đánh bạc qua mạng Internet; trộm cước cước viễn thông quốc tế trên nền Internet; vi phạm bản quyền và sở hữu trí tuệ trên không gian mạng; giả mạo trang thông tin điện tử của cơ quan, tổ chức, cá nhân; làm giả, lưu hành, trộm cắp, mua bán, thu thập, trao đổi trái phép thông tin thẻ tín dụng, tài khoản ngân hàng của người khác; phát hành, cung cấp, sử dụng trái phép các phương tiện thanh toán; hướng dẫn người khác thực hiện hành vi vi phạm pháp luật;\".\n",
      "}\n",
      "```\n",
      "For troubleshooting, visit: https://python.langchain.com/docs/troubleshooting/errors/OUTPUT_PARSING_FAILURE \n",
      "Error: Invalid json output: ```json\n",
      "{\n",
      " \"question\": \"Luật an ninh quốc gia, trật tự, an toàn xã hội bao gồm các hành vi nào liên quan đến việc vi phạm thông tin trên không gian mạng?\",\n",
      " \"answer\": \"Các hành vi liên quan đến việc vi phạm pháp luật về an ninh quốc gia, trật tự, an toàn xã hội bao gồm đăng tải, phát tán thông tin trên không gian mạng có nội dung quy định tại các khoản 1, 2, 3, 4 và 5 Điều 16 và hành vi quy định tại khoản 1 Điều 17 của Luật này; chiếm đoạt tài sản; tổ chức đánh bạc, đánh bạc qua mạng Internet; trộm cước cước viễn thông quốc tế trên nền Internet; vi phạm bản quyền và sở hữu trí tuệ trên không gian mạng; giả mạo trang thông tin điện tử của cơ quan, tổ chức, cá nhân; làm giả, lưu hành, trộm cắp, mua bán, thu thập, trao đổi trái phép thông tin thẻ tín dụng, tài khoản ngân hàng của người khác; phát hành, cung cấp, sử dụng trái phép các phương tiện thanh toán; hướng dẫn người khác thực hiện hành vi vi phạm pháp luật;\".\n",
      "}\n",
      "```\n",
      "For troubleshooting, visit: https://python.langchain.com/docs/troubleshooting/errors/OUTPUT_PARSING_FAILURE \n",
      "Error: Invalid json output: ```json\n",
      "{\n",
      " \"question\": \"Luật an ninh quốc gia, trật tự, an toàn xã hội bao gồm các hành vi nào liên quan đến việc vi phạm thông tin trên không gian mạng?\",\n",
      " \"answer\": \"Các hành vi liên quan đến việc vi phạm pháp luật về an ninh quốc gia, trật tự, an toàn xã hội bao gồm đăng tải, phát tán thông tin trên không gian mạng có nội dung quy định tại các khoản 1, 2, 3, 4 và 5 Điều 16 và hành vi quy định tại khoản 1 Điều 17 của Luật này; chiếm đoạt tài sản; tổ chức đánh bạc, đánh bạc qua mạng Internet; trộm cước cước viễn thông quốc tế trên nền Internet; vi phạm bản quyền và sở hữu trí tuệ trên không gian mạng; giả mạo trang thông tin điện tử của cơ quan, tổ chức, cá nhân; làm giả, lưu hành, trộm cắp, mua bán, thu thập, trao đổi trái phép thông tin thẻ tín dụng, tài khoản ngân hàng của người khác; phát hành, cung cấp, sử dụng trái phép các phương tiện thanh toán; hướng dẫn người khác thực hiện hành vi vi phạm pháp luật;\".\n",
      "}\n",
      "```\n",
      "For troubleshooting, visit: https://python.langchain.com/docs/troubleshooting/errors/OUTPUT_PARSING_FAILURE \n",
      "Error: Invalid json output: ```json\n",
      "{\n",
      " \"question\": \"Luật an ninh quốc gia, trật tự, an toàn xã hội bao gồm các hành vi nào liên quan đến việc vi phạm thông tin trên không gian mạng?\",\n",
      " \"answer\": \"Các hành vi liên quan đến việc vi phạm pháp luật về an ninh quốc gia, trật tự, an toàn xã hội bao gồm đăng tải, phát tán thông tin trên không gian mạng có nội dung quy định tại các khoản 1, 2, 3, 4 và 5 Điều 16 và hành vi quy định tại khoản 1 Điều 17 của Luật này; chiếm đoạt tài sản; tổ chức đánh bạc, đánh bạc qua mạng Internet; trộm cước cước viễn thông quốc tế trên nền Internet; vi phạm bản quyền và sở hữu trí tuệ trên không gian mạng; giả mạo trang thông tin điện tử của cơ quan, tổ chức, cá nhân; làm giả, lưu hành, trộm cắp, mua bán, thu thập, trao đổi trái phép thông tin thẻ tín dụng, tài khoản ngân hàng của người khác; phát hành, cung cấp, sử dụng trái phép các phương tiện thanh toán; hướng dẫn người khác thực hiện hành vi vi phạm pháp luật;\".\n",
      "}\n",
      "```\n",
      "For troubleshooting, visit: https://python.langchain.com/docs/troubleshooting/errors/OUTPUT_PARSING_FAILURE \n",
      "Error: Invalid json output: ```json\n",
      "{\n",
      " \"question\": \"Luật an ninh quốc gia, trật tự, an toàn xã hội bao gồm các hành vi nào liên quan đến việc vi phạm thông tin trên không gian mạng?\",\n",
      " \"answer\": \"Các hành vi liên quan đến việc vi phạm pháp luật về an ninh quốc gia, trật tự, an toàn xã hội bao gồm đăng tải, phát tán thông tin trên không gian mạng có nội dung quy định tại các khoản 1, 2, 3, 4 và 5 Điều 16 và hành vi quy định tại khoản 1 Điều 17 của Luật này; chiếm đoạt tài sản; tổ chức đánh bạc, đánh bạc qua mạng Internet; trộm cước cước viễn thông quốc tế trên nền Internet; vi phạm bản quyền và sở hữu trí tuệ trên không gian mạng; giả mạo trang thông tin điện tử của cơ quan, tổ chức, cá nhân; làm giả, lưu hành, trộm cắp, mua bán, thu thập, trao đổi trái phép thông tin thẻ tín dụng, tài khoản ngân hàng của người khác; phát hành, cung cấp, sử dụng trái phép các phương tiện thanh toán; hướng dẫn người khác thực hiện hành vi vi phạm pháp luật;\".\n",
      "}\n",
      "```\n",
      "For troubleshooting, visit: https://python.langchain.com/docs/troubleshooting/errors/OUTPUT_PARSING_FAILURE \n",
      "Error: Invalid json output: ```json\n",
      "{\n",
      " \"question\": \"Luật an ninh quốc gia, trật tự, an toàn xã hội bao gồm các hành vi nào liên quan đến việc vi phạm thông tin trên không gian mạng?\",\n",
      " \"answer\": \"Các hành vi liên quan đến việc vi phạm pháp luật về an ninh quốc gia, trật tự, an toàn xã hội bao gồm đăng tải, phát tán thông tin trên không gian mạng có nội dung quy định tại các khoản 1, 2, 3, 4 và 5 Điều 16 và hành vi quy định tại khoản 1 Điều 17 của Luật này; chiếm đoạt tài sản; tổ chức đánh bạc, đánh bạc qua mạng Internet; trộm cước cước viễn thông quốc tế trên nền Internet; vi phạm bản quyền và sở hữu trí tuệ trên không gian mạng; giả mạo trang thông tin điện tử của cơ quan, tổ chức, cá nhân; làm giả, lưu hành, trộm cắp, mua bán, thu thập, trao đổi trái phép thông tin thẻ tín dụng, tài khoản ngân hàng của người khác; phát hành, cung cấp, sử dụng trái phép các phương tiện thanh toán; hướng dẫn người khác thực hiện hành vi vi phạm pháp luật;\".\n",
      "}\n",
      "```\n",
      "For troubleshooting, visit: https://python.langchain.com/docs/troubleshooting/errors/OUTPUT_PARSING_FAILURE \n"
     ]
    },
    {
     "name": "stderr",
     "output_type": "stream",
     "text": [
      "  6%|▋         | 38/590 [03:18<2:06:42, 13.77s/it]"
     ]
    },
    {
     "name": "stdout",
     "output_type": "stream",
     "text": [
      "Error: Invalid json output: ```json\n",
      "{\n",
      " \"question\": \"Luật an ninh quốc gia, trật tự, an toàn xã hội bao gồm các hành vi nào liên quan đến việc vi phạm thông tin trên không gian mạng?\",\n",
      " \"answer\": \"Các hành vi liên quan đến việc vi phạm pháp luật về an ninh quốc gia, trật tự, an toàn xã hội bao gồm đăng tải, phát tán thông tin trên không gian mạng có nội dung quy định tại các khoản 1, 2, 3, 4 và 5 Điều 16 và hành vi quy định tại khoản 1 Điều 17 của Luật này; chiếm đoạt tài sản; tổ chức đánh bạc, đánh bạc qua mạng Internet; trộm cước cước viễn thông quốc tế trên nền Internet; vi phạm bản quyền và sở hữu trí tuệ trên không gian mạng; giả mạo trang thông tin điện tử của cơ quan, tổ chức, cá nhân; làm giả, lưu hành, trộm cắp, mua bán, thu thập, trao đổi trái phép thông tin thẻ tín dụng, tài khoản ngân hàng của người khác; phát hành, cung cấp, sử dụng trái phép các phương tiện thanh toán; hướng dẫn người khác thực hiện hành vi vi phạm pháp luật;\".\n",
      "}\n",
      "```\n",
      "For troubleshooting, visit: https://python.langchain.com/docs/troubleshooting/errors/OUTPUT_PARSING_FAILURE \n"
     ]
    },
    {
     "name": "stderr",
     "output_type": "stream",
     "text": [
      " 48%|████▊     | 284/590 [21:04<27:53,  5.47s/it] "
     ]
    },
    {
     "name": "stdout",
     "output_type": "stream",
     "text": [
      "Error: Invalid json output: ```json\n",
      "{\n",
      " \"question\": \"Luật An ninh mạng Việt Nam quy định về trách nhiệm của các tổ chức, cá nhân trong việc bảo vệ dữ liệu người dùng như thế nào?\",\n",
      " \"answer\": \"Luật An ninh mạng Việt Nam quy định trách nhiệm của các tổ chức, cá nhân trong việc bảo vệ dữ liệu người dùng, bao gồm các quy định về bảo vệ dữ liệu, trách nhiệm của người quản lý, trách nhiệm của tổ chức, và các biện pháp xử lý dữ liệu. Luật này nhấn mạnh vào việc bảo vệ dữ liệu cá nhân, đảm bảo quyền riêng tư của người dùng, và có biện pháp xử lý dữ liệu theo nguyên tắc \"chỉ khi cần, chỉ để, và không kéo dài.\" Luật cũng quy định về trách nhiệm của các tổ chức trong việc thực hiện các biện pháp bảo vệ dữ liệu, bao gồm việc thiết lập hệ thống bảo mật, kiểm tra và cập nhật hệ thống, và xử lý các vi phạm dữ liệu. Luật cũng có các quy định về việc người dùng có quyền tiếp cận, sửa chữa, xóa dữ liệu cá nhân của mình.\"\n",
      "}\n",
      "```\n",
      "For troubleshooting, visit: https://python.langchain.com/docs/troubleshooting/errors/OUTPUT_PARSING_FAILURE \n"
     ]
    },
    {
     "name": "stderr",
     "output_type": "stream",
     "text": [
      " 98%|█████████▊| 581/590 [45:02<00:57,  6.39s/it]"
     ]
    },
    {
     "name": "stdout",
     "output_type": "stream",
     "text": [
      "Error: Invalid json output: ```json\n",
      "{\n",
      " \"question\": \"Luật bảo vệ dữ liệu người dùng trong lĩnh vực ứng dụng di động và các dịch vụ trực tuyến có những quy định cụ thể nào?\",\n",
      " \"answer\": \"Luật bảo vệ dữ liệu người dùng trong lĩnh vực ứng dụng di động và các dịch vụ trực tuyến được quy định tại Nghị định 13/2023/ND-CP về bảo vệ dữ liệu cá nhân, có các quy định quan trọng như: quy định về việc thu thập, sử dụng, lưu trữ, xử lý và bảo vệ dữ liệu cá nhân, đảm bảo dữ liệu được bảo mật, an toàn và không được sử dụng cho mục đích khác ngoài mục đích đã nêu.  Nghị định này cũng quy định về quyền của người dùng, quyền truy cập, sửa đổi, yêu cầu xóa dữ liệu, và trách nhiệm của các tổ chức, cá nhân trong việc bảo vệ dữ liệu.  Ngoài ra, có quy định về việc xử lý dữ liệu theo nguyên tắc \"chỉ lấy, chỉ sử dụng, chỉ lưu trữ dữ liệu cần thiết\" và có quy định về việc bảo vệ dữ liệu trong quá trình truyền tải, lưu trữ và xử lý dữ liệu.\"\n",
      "}\n",
      "```\n",
      "For troubleshooting, visit: https://python.langchain.com/docs/troubleshooting/errors/OUTPUT_PARSING_FAILURE \n",
      "Error: Invalid json output: ```json\n",
      "{\n",
      " \"question\": \"Luật bảo vệ dữ liệu người dùng trong lĩnh vực ứng dụng di động và các dịch vụ trực tuyến có những quy định cụ thể nào?\",\n",
      " \"answer\": \"Luật bảo vệ dữ liệu người dùng trong lĩnh vực ứng dụng di động và các dịch vụ trực tuyến được quy định tại Nghị định 13/2023/ND-CP về bảo vệ dữ liệu cá nhân, có các quy định quan trọng như: quy định về việc thu thập, sử dụng, lưu trữ, xử lý và bảo vệ dữ liệu cá nhân, đảm bảo dữ liệu được bảo mật, an toàn và không được sử dụng cho mục đích khác ngoài mục đích đã nêu.  Nghị định này cũng quy định về quyền của người dùng, quyền truy cập, sửa đổi, yêu cầu xóa dữ liệu, và trách nhiệm của các tổ chức, cá nhân trong việc bảo vệ dữ liệu.  Ngoài ra, có quy định về việc xử lý dữ liệu theo nguyên tắc \"chỉ lấy, chỉ sử dụng, chỉ lưu trữ dữ liệu cần thiết\" và có quy định về việc bảo vệ dữ liệu trong quá trình truyền tải, lưu trữ và xử lý dữ liệu.\"\n",
      "}\n",
      "```\n",
      "For troubleshooting, visit: https://python.langchain.com/docs/troubleshooting/errors/OUTPUT_PARSING_FAILURE \n",
      "Error: Invalid json output: ```json\n",
      "{\n",
      " \"question\": \"Luật bảo vệ dữ liệu người dùng trong lĩnh vực ứng dụng di động và các dịch vụ trực tuyến có những quy định cụ thể nào?\",\n",
      " \"answer\": \"Luật bảo vệ dữ liệu người dùng trong lĩnh vực ứng dụng di động và các dịch vụ trực tuyến được quy định tại Nghị định 13/2023/ND-CP về bảo vệ dữ liệu cá nhân, có các quy định quan trọng như: quy định về việc thu thập, sử dụng, lưu trữ, xử lý và bảo vệ dữ liệu cá nhân, đảm bảo dữ liệu được bảo mật, an toàn và không được sử dụng cho mục đích khác ngoài mục đích đã nêu.  Nghị định này cũng quy định về quyền của người dùng, quyền truy cập, sửa đổi, yêu cầu xóa dữ liệu, và trách nhiệm của các tổ chức, cá nhân trong việc bảo vệ dữ liệu.  Ngoài ra, có quy định về việc xử lý dữ liệu theo nguyên tắc \"chỉ lấy, chỉ sử dụng, chỉ lưu trữ dữ liệu cần thiết\" và có quy định về việc bảo vệ dữ liệu trong quá trình truyền tải, lưu trữ và xử lý dữ liệu.\"\n",
      "}\n",
      "```\n",
      "For troubleshooting, visit: https://python.langchain.com/docs/troubleshooting/errors/OUTPUT_PARSING_FAILURE \n",
      "Error: Invalid json output: ```json\n",
      "{\n",
      " \"question\": \"Luật bảo vệ dữ liệu người dùng trong lĩnh vực ứng dụng di động và các dịch vụ trực tuyến có những quy định cụ thể nào?\",\n",
      " \"answer\": \"Luật bảo vệ dữ liệu người dùng trong lĩnh vực ứng dụng di động và các dịch vụ trực tuyến được quy định tại Nghị định 13/2023/ND-CP về bảo vệ dữ liệu cá nhân, có các quy định quan trọng như: quy định về việc thu thập, sử dụng, lưu trữ, xử lý và bảo vệ dữ liệu cá nhân, đảm bảo dữ liệu được bảo mật, an toàn và không được sử dụng cho mục đích khác ngoài mục đích đã nêu.  Nghị định này cũng quy định về quyền của người dùng, quyền truy cập, sửa đổi, yêu cầu xóa dữ liệu, và trách nhiệm của các tổ chức, cá nhân trong việc bảo vệ dữ liệu.  Ngoài ra, có quy định về việc xử lý dữ liệu theo nguyên tắc \"chỉ lấy, chỉ sử dụng, chỉ lưu trữ dữ liệu cần thiết\" và có quy định về việc bảo vệ dữ liệu trong quá trình truyền tải, lưu trữ và xử lý dữ liệu.\"\n",
      "}\n",
      "```\n",
      "For troubleshooting, visit: https://python.langchain.com/docs/troubleshooting/errors/OUTPUT_PARSING_FAILURE \n"
     ]
    },
    {
     "name": "stderr",
     "output_type": "stream",
     "text": [
      " 99%|█████████▊| 582/590 [45:27<01:35, 11.88s/it]"
     ]
    },
    {
     "name": "stdout",
     "output_type": "stream",
     "text": [
      "Error: Invalid json output: ```json\n",
      "{\n",
      " \"question\": \"Luật bảo vệ dữ liệu người dùng trong lĩnh vực ứng dụng di động và các dịch vụ trực tuyến có những quy định cụ thể nào?\",\n",
      " \"answer\": \"Luật bảo vệ dữ liệu người dùng trong lĩnh vực ứng dụng di động và các dịch vụ trực tuyến được quy định tại Nghị định 13/2023/ND-CP về bảo vệ dữ liệu cá nhân, có các quy định quan trọng như: quy định về việc thu thập, sử dụng, lưu trữ, xử lý và bảo vệ dữ liệu cá nhân, đảm bảo dữ liệu được bảo mật, an toàn và không được sử dụng cho mục đích khác ngoài mục đích đã nêu.  Nghị định này cũng quy định về quyền của người dùng, quyền truy cập, sửa đổi, yêu cầu xóa dữ liệu, và trách nhiệm của các tổ chức, cá nhân trong việc bảo vệ dữ liệu.  Ngoài ra, có quy định về việc xử lý dữ liệu theo nguyên tắc \"chỉ lấy, chỉ sử dụng, chỉ lưu trữ dữ liệu cần thiết\" và có quy định về việc bảo vệ dữ liệu trong quá trình truyền tải, lưu trữ và xử lý dữ liệu.\"\n",
      "}\n",
      "```\n",
      "For troubleshooting, visit: https://python.langchain.com/docs/troubleshooting/errors/OUTPUT_PARSING_FAILURE \n"
     ]
    },
    {
     "name": "stderr",
     "output_type": "stream",
     "text": [
      "100%|██████████| 590/590 [46:54<00:00,  4.77s/it]\n"
     ]
    }
   ],
   "source": [
    "import pandas as pd\n",
    "from tqdm.auto import tqdm\n",
    "import random\n",
    "\n",
    "# Define the number of pairs per chunk\n",
    "min_pairs = 2\n",
    "max_pairs = 3\n",
    "\n",
    "max_try = 5\n",
    "\n",
    "# Initialize an empty list to store the pairs\n",
    "pairs = []\n",
    "\n",
    "error_chunks = []\n",
    "\n",
    "chunk_metadata = pd.read_csv('chunks.csv')\n",
    "# Iterate over the chunks\n",
    "for i in tqdm(range(len(chunk_metadata))):\n",
    "    # Invoke the chain to generate the pairs\n",
    "    chunk = chunk_metadata['text'][i]\n",
    "    cid = chunk_metadata['cid'][i]\n",
    "    num_pairs = random.randint(min_pairs, max_pairs)\n",
    "\n",
    "    for _ in range(num_pairs):\n",
    "        for _ in range(max_try):\n",
    "            try:\n",
    "                result = label_chain.invoke({\"chunk\": chunk})\n",
    "                # Extract the question and answer from the result\n",
    "                question = result['question']\n",
    "                answer = result['answer']\n",
    "                # Create a dictionary with the question, answer, and corpus id\n",
    "                pair = {'question': question, 'answer': answer, 'cid': cid, 'corpus': chunk}\n",
    "                # Append the pair to the list\n",
    "                pairs.append(pair)\n",
    "                break\n",
    "            except Exception as e:\n",
    "                print(f\"Error: {e}\")\n",
    "        else:\n",
    "            error_chunks.append(cid)\n",
    "\n",
    "# Create a pandas DataFrame from the list of pairs\n",
    "df = pd.DataFrame(pairs)\n",
    "df.to_csv('train_data.csv', index=False)"
   ]
  },
  {
   "cell_type": "code",
   "execution_count": 6,
   "metadata": {},
   "outputs": [
    {
     "name": "stdout",
     "output_type": "stream",
     "text": [
      "3\n"
     ]
    }
   ],
   "source": [
    "print(len(error_chunks))"
   ]
  },
  {
   "cell_type": "code",
   "execution_count": 10,
   "metadata": {},
   "outputs": [
    {
     "data": {
      "text/plain": [
       "1442"
      ]
     },
     "execution_count": 10,
     "metadata": {},
     "output_type": "execute_result"
    }
   ],
   "source": [
    "len(df)"
   ]
  }
 ],
 "metadata": {
  "kernelspec": {
   "display_name": "chatbots",
   "language": "python",
   "name": "python3"
  },
  "language_info": {
   "codemirror_mode": {
    "name": "ipython",
    "version": 3
   },
   "file_extension": ".py",
   "mimetype": "text/x-python",
   "name": "python",
   "nbconvert_exporter": "python",
   "pygments_lexer": "ipython3",
   "version": "3.11.0"
  }
 },
 "nbformat": 4,
 "nbformat_minor": 2
}
